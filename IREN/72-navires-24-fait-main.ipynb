{
 "cells": [
  {
   "cell_type": "code",
   "execution_count": 1,
   "id": "61b4cfc6",
   "metadata": {
    "_cell_guid": "b1076dfc-b9ad-4769-8c92-a6c4dae69d19",
    "_uuid": "8f2839f25d086af736a60e9eeb907d3b93b6e0e5",
    "execution": {
     "iopub.execute_input": "2024-06-01T10:28:51.963594Z",
     "iopub.status.busy": "2024-06-01T10:28:51.963271Z",
     "iopub.status.idle": "2024-06-01T10:28:52.680867Z",
     "shell.execute_reply": "2024-06-01T10:28:52.679996Z"
    },
    "papermill": {
     "duration": 0.725765,
     "end_time": "2024-06-01T10:28:52.683104",
     "exception": false,
     "start_time": "2024-06-01T10:28:51.957339",
     "status": "completed"
    },
    "tags": []
   },
   "outputs": [
    {
     "name": "stdout",
     "output_type": "stream",
     "text": [
      "/kaggle/input/navires-2024-fait-main/ships24.tgz\n"
     ]
    }
   ],
   "source": [
    "# This Python 3 environment comes with many helpful analytics libraries installed\n",
    "# It is defined by the kaggle/python Docker image: https://github.com/kaggle/docker-python\n",
    "# For example, here's several helpful packages to load\n",
    "\n",
    "import numpy as np # linear algebra\n",
    "import pandas as pd # data processing, CSV file I/O (e.g. pd.read_csv)\n",
    "\n",
    "# Input data files are available in the read-only \"../input/\" directory\n",
    "# For example, running this (by clicking run or pressing Shift+Enter) will list all files under the input directory\n",
    "\n",
    "import os\n",
    "for dirname, _, filenames in os.walk('/kaggle/input'):\n",
    "    for filename in filenames:\n",
    "        print(os.path.join(dirname, filename))\n",
    "\n",
    "# You can write up to 20GB to the current directory (/kaggle/working/) that gets preserved as output when you create a version using \"Save & Run All\" \n",
    "# You can also write temporary files to /kaggle/temp/, but they won't be saved outside of the current session"
   ]
  },
  {
   "cell_type": "code",
   "execution_count": 2,
   "id": "03e6c7c2",
   "metadata": {
    "execution": {
     "iopub.execute_input": "2024-06-01T10:28:52.692888Z",
     "iopub.status.busy": "2024-06-01T10:28:52.692474Z",
     "iopub.status.idle": "2024-06-01T10:28:58.072467Z",
     "shell.execute_reply": "2024-06-01T10:28:58.071127Z"
    },
    "papermill": {
     "duration": 5.388437,
     "end_time": "2024-06-01T10:28:58.075978",
     "exception": false,
     "start_time": "2024-06-01T10:28:52.687541",
     "status": "completed"
    },
    "tags": []
   },
   "outputs": [],
   "source": [
    "!tar xzf /kaggle/input/navires-2024-fait-main/ships24.tgz"
   ]
  },
  {
   "cell_type": "code",
   "execution_count": 3,
   "id": "d1649d5f",
   "metadata": {
    "execution": {
     "iopub.execute_input": "2024-06-01T10:28:58.089883Z",
     "iopub.status.busy": "2024-06-01T10:28:58.089514Z",
     "iopub.status.idle": "2024-06-01T10:28:59.059900Z",
     "shell.execute_reply": "2024-06-01T10:28:59.058917Z"
    },
    "papermill": {
     "duration": 0.979827,
     "end_time": "2024-06-01T10:28:59.062120",
     "exception": false,
     "start_time": "2024-06-01T10:28:58.082293",
     "status": "completed"
    },
    "tags": []
   },
   "outputs": [
    {
     "name": "stdout",
     "output_type": "stream",
     "text": [
      "__notebook__.ipynb  ships_gray\ttest.npy\r\n"
     ]
    }
   ],
   "source": [
    "!ls /kaggle/working"
   ]
  },
  {
   "cell_type": "code",
   "execution_count": 4,
   "id": "cc58b4c7",
   "metadata": {
    "execution": {
     "iopub.execute_input": "2024-06-01T10:28:59.072196Z",
     "iopub.status.busy": "2024-06-01T10:28:59.071869Z",
     "iopub.status.idle": "2024-06-01T10:29:10.827777Z",
     "shell.execute_reply": "2024-06-01T10:29:10.827012Z"
    },
    "papermill": {
     "duration": 11.763517,
     "end_time": "2024-06-01T10:29:10.829977",
     "exception": false,
     "start_time": "2024-06-01T10:28:59.066460",
     "status": "completed"
    },
    "tags": []
   },
   "outputs": [
    {
     "name": "stderr",
     "output_type": "stream",
     "text": [
      "2024-06-01 10:29:00.828489: E external/local_xla/xla/stream_executor/cuda/cuda_dnn.cc:9261] Unable to register cuDNN factory: Attempting to register factory for plugin cuDNN when one has already been registered\n",
      "2024-06-01 10:29:00.828591: E external/local_xla/xla/stream_executor/cuda/cuda_fft.cc:607] Unable to register cuFFT factory: Attempting to register factory for plugin cuFFT when one has already been registered\n",
      "2024-06-01 10:29:00.967939: E external/local_xla/xla/stream_executor/cuda/cuda_blas.cc:1515] Unable to register cuBLAS factory: Attempting to register factory for plugin cuBLAS when one has already been registered\n"
     ]
    }
   ],
   "source": [
    "import numpy as np # linear algebra\n",
    "import pandas as pd # data processing, CSV file I/O (e.g. pd.read_csv)\n",
    "import matplotlib.pylab as plt\n",
    "import tensorflow as tf\n",
    "\n",
    "SEED = 123                 # to be able to rerun the same NN\n",
    "np.random.seed(SEED)\n",
    "tf.random.set_seed(SEED)\n",
    "\n",
    "np.set_printoptions(precision=4, suppress=True, floatmode='fixed')\n",
    "\n",
    "%matplotlib inline"
   ]
  },
  {
   "cell_type": "code",
   "execution_count": 5,
   "id": "90fb2fb2",
   "metadata": {
    "execution": {
     "iopub.execute_input": "2024-06-01T10:29:10.840100Z",
     "iopub.status.busy": "2024-06-01T10:29:10.839559Z",
     "iopub.status.idle": "2024-06-01T10:29:12.776660Z",
     "shell.execute_reply": "2024-06-01T10:29:12.775762Z"
    },
    "papermill": {
     "duration": 1.944328,
     "end_time": "2024-06-01T10:29:12.778688",
     "exception": false,
     "start_time": "2024-06-01T10:29:10.834360",
     "status": "completed"
    },
    "tags": []
   },
   "outputs": [
    {
     "name": "stdout",
     "output_type": "stream",
     "text": [
      "Found 33768 images belonging to 10 classes.\n",
      "Found 8436 images belonging to 10 classes.\n"
     ]
    }
   ],
   "source": [
    "from tensorflow.keras.preprocessing.image import ImageDataGenerator\n",
    "\n",
    "directory='/kaggle/working/ships_gray'\n",
    "\n",
    "datagen = ImageDataGenerator(rescale=1.0/255.0, validation_split=0.2)\n",
    "\n",
    "training_dataset = datagen.flow_from_directory(\n",
    "    directory,\n",
    "    class_mode='categorical',\n",
    "    color_mode='grayscale',\n",
    "    batch_size=32,\n",
    "    target_size=(128, 192),\n",
    "    shuffle=True,\n",
    "    seed=72,\n",
    "    subset='training',\n",
    "    interpolation='bilinear',\n",
    ")\n",
    "\n",
    "validation_dataset  = datagen.flow_from_directory(\n",
    "    directory,\n",
    "    class_mode='categorical',\n",
    "    color_mode='grayscale',\n",
    "    batch_size=32,\n",
    "    target_size=(128, 192),\n",
    "    shuffle=True,\n",
    "    seed=72,\n",
    "    subset='validation',\n",
    "    interpolation='bilinear',\n",
    ")"
   ]
  },
  {
   "cell_type": "code",
   "execution_count": 6,
   "id": "661b4fb6",
   "metadata": {
    "execution": {
     "iopub.execute_input": "2024-06-01T10:29:12.788601Z",
     "iopub.status.busy": "2024-06-01T10:29:12.788304Z",
     "iopub.status.idle": "2024-06-01T10:29:13.631666Z",
     "shell.execute_reply": "2024-06-01T10:29:13.630648Z"
    },
    "papermill": {
     "duration": 0.850532,
     "end_time": "2024-06-01T10:29:13.633675",
     "exception": false,
     "start_time": "2024-06-01T10:29:12.783143",
     "status": "completed"
    },
    "tags": []
   },
   "outputs": [
    {
     "name": "stderr",
     "output_type": "stream",
     "text": [
      "/opt/conda/lib/python3.10/site-packages/keras/src/layers/convolutional/base_conv.py:99: UserWarning: Do not pass an `input_shape`/`input_dim` argument to a layer. When using Sequential models, prefer using an `Input(shape)` object as the first layer in the model instead.\n",
      "  super().__init__(\n"
     ]
    },
    {
     "name": "stdout",
     "output_type": "stream",
     "text": [
      "Nombre de couches :  28\n"
     ]
    }
   ],
   "source": [
    "from keras.models import Sequential\n",
    "from keras.layers import Dense, Dropout, Flatten, Conv2D, MaxPooling2D, BatchNormalization, GlobalAveragePooling2D\n",
    "from keras.regularizers import l2\n",
    "\n",
    "# Définir le modèle\n",
    "model = Sequential([\n",
    "    Conv2D(64, (3, 3), activation='relu', input_shape=(128, 192, 1)),\n",
    "    BatchNormalization(),\n",
    "    Conv2D(64, (3, 3), activation='relu'),\n",
    "    BatchNormalization(),\n",
    "    MaxPooling2D((2, 2)),\n",
    "    Dropout(0.25),\n",
    "    \n",
    "    Conv2D(128, (3, 3), activation='relu'),\n",
    "    BatchNormalization(),\n",
    "    Conv2D(128, (3, 3), activation='relu'),\n",
    "    BatchNormalization(),\n",
    "    MaxPooling2D((2, 2)),\n",
    "    Dropout(0.25),\n",
    "    \n",
    "    Conv2D(256, (3, 3), activation='relu'),\n",
    "    BatchNormalization(),\n",
    "    Conv2D(256, (3, 3), activation='relu'),\n",
    "    BatchNormalization(),\n",
    "    MaxPooling2D((2, 2)),\n",
    "    Dropout(0.25),\n",
    "    \n",
    "    Conv2D(512, (3, 3), activation='relu'),\n",
    "    BatchNormalization(),\n",
    "    MaxPooling2D((2, 2)),\n",
    "    Dropout(0.25),\n",
    "    \n",
    "    GlobalAveragePooling2D(),\n",
    "    Dense(512, activation='relu', kernel_regularizer=l2(0.01)),\n",
    "    Dropout(0.5),\n",
    "    Dense(256, activation='relu', kernel_regularizer=l2(0.01)),\n",
    "    Dropout(0.5),\n",
    "    Dense(len(training_dataset.class_indices), activation='softmax')\n",
    "])\n",
    "\n",
    "\n",
    "# Afficher le nombre de couches\n",
    "print(\"Nombre de couches : \", len(model.layers))\n",
    "\n",
    "# Compiler le modèle\n",
    "model.compile(optimizer='adam', loss='categorical_crossentropy', metrics=['accuracy'])"
   ]
  },
  {
   "cell_type": "code",
   "execution_count": 7,
   "id": "782fc877",
   "metadata": {
    "execution": {
     "iopub.execute_input": "2024-06-01T10:29:13.644373Z",
     "iopub.status.busy": "2024-06-01T10:29:13.643742Z",
     "iopub.status.idle": "2024-06-01T11:07:24.539612Z",
     "shell.execute_reply": "2024-06-01T11:07:24.538574Z"
    },
    "papermill": {
     "duration": 2290.903232,
     "end_time": "2024-06-01T11:07:24.541643",
     "exception": false,
     "start_time": "2024-06-01T10:29:13.638411",
     "status": "completed"
    },
    "tags": []
   },
   "outputs": [
    {
     "name": "stdout",
     "output_type": "stream",
     "text": [
      "Epoch 1/30\n"
     ]
    },
    {
     "name": "stderr",
     "output_type": "stream",
     "text": [
      "/opt/conda/lib/python3.10/site-packages/keras/src/trainers/data_adapters/py_dataset_adapter.py:120: UserWarning: Your `PyDataset` class should call `super().__init__(**kwargs)` in its constructor. `**kwargs` can include `workers`, `use_multiprocessing`, `max_queue_size`. Do not pass these arguments to `fit()`, as they will be ignored.\n",
      "  self._warn_if_super_not_called()\n",
      "2024-06-01 10:29:26.468531: E external/local_xla/xla/service/gpu/buffer_comparator.cc:1137] Difference at 0: 4.34056, expected 3.36996\n",
      "2024-06-01 10:29:26.468596: E external/local_xla/xla/service/gpu/buffer_comparator.cc:1137] Difference at 1: 3.69911, expected 2.72851\n",
      "2024-06-01 10:29:26.468605: E external/local_xla/xla/service/gpu/buffer_comparator.cc:1137] Difference at 2: 3.39073, expected 2.42013\n",
      "2024-06-01 10:29:26.468613: E external/local_xla/xla/service/gpu/buffer_comparator.cc:1137] Difference at 3: 3.67995, expected 2.70936\n",
      "2024-06-01 10:29:26.468621: E external/local_xla/xla/service/gpu/buffer_comparator.cc:1137] Difference at 4: 3.86578, expected 2.89518\n",
      "2024-06-01 10:29:26.468628: E external/local_xla/xla/service/gpu/buffer_comparator.cc:1137] Difference at 5: 3.71429, expected 2.74369\n",
      "2024-06-01 10:29:26.468636: E external/local_xla/xla/service/gpu/buffer_comparator.cc:1137] Difference at 6: 3.26094, expected 2.29034\n",
      "2024-06-01 10:29:26.468644: E external/local_xla/xla/service/gpu/buffer_comparator.cc:1137] Difference at 7: 2.93969, expected 1.96909\n",
      "2024-06-01 10:29:26.468651: E external/local_xla/xla/service/gpu/buffer_comparator.cc:1137] Difference at 8: 3.45735, expected 2.48675\n",
      "2024-06-01 10:29:26.468659: E external/local_xla/xla/service/gpu/buffer_comparator.cc:1137] Difference at 9: 3.98236, expected 3.01176\n",
      "2024-06-01 10:29:26.492898: E external/local_xla/xla/service/gpu/conv_algorithm_picker.cc:705] Results mismatch between different convolution algorithms. This is likely a bug/unexpected loss of precision in cudnn.\n",
      "(f32[32,64,126,190]{3,2,1,0}, u8[0]{0}) custom-call(f32[32,1,128,192]{3,2,1,0}, f32[64,1,3,3]{3,2,1,0}, f32[64]{0}), window={size=3x3}, dim_labels=bf01_oi01->bf01, custom_call_target=\"__cudnn$convBiasActivationForward\", backend_config={\"conv_result_scale\":1,\"activation_mode\":\"kRelu\",\"side_input_scale\":0,\"leakyrelu_alpha\":0} for eng20{k2=1,k4=0,k5=1,k6=0,k7=0} vs eng15{k5=1,k6=0,k7=1,k10=1}\n",
      "2024-06-01 10:29:26.492946: E external/local_xla/xla/service/gpu/conv_algorithm_picker.cc:270] Device: Tesla P100-PCIE-16GB\n",
      "2024-06-01 10:29:26.492955: E external/local_xla/xla/service/gpu/conv_algorithm_picker.cc:271] Platform: Compute Capability 6.0\n",
      "2024-06-01 10:29:26.492962: E external/local_xla/xla/service/gpu/conv_algorithm_picker.cc:272] Driver: 12020 (535.129.3)\n",
      "2024-06-01 10:29:26.492969: E external/local_xla/xla/service/gpu/conv_algorithm_picker.cc:273] Runtime: <undefined>\n",
      "2024-06-01 10:29:26.492984: E external/local_xla/xla/service/gpu/conv_algorithm_picker.cc:280] cudnn version: 8.9.0\n",
      "2024-06-01 10:29:27.075462: E external/local_xla/xla/service/gpu/buffer_comparator.cc:1137] Difference at 0: 4.34056, expected 3.36996\n",
      "2024-06-01 10:29:27.075525: E external/local_xla/xla/service/gpu/buffer_comparator.cc:1137] Difference at 1: 3.69911, expected 2.72851\n",
      "2024-06-01 10:29:27.075539: E external/local_xla/xla/service/gpu/buffer_comparator.cc:1137] Difference at 2: 3.39073, expected 2.42013\n",
      "2024-06-01 10:29:27.075551: E external/local_xla/xla/service/gpu/buffer_comparator.cc:1137] Difference at 3: 3.67995, expected 2.70936\n",
      "2024-06-01 10:29:27.075563: E external/local_xla/xla/service/gpu/buffer_comparator.cc:1137] Difference at 4: 3.86578, expected 2.89518\n",
      "2024-06-01 10:29:27.075573: E external/local_xla/xla/service/gpu/buffer_comparator.cc:1137] Difference at 5: 3.71429, expected 2.74369\n",
      "2024-06-01 10:29:27.075583: E external/local_xla/xla/service/gpu/buffer_comparator.cc:1137] Difference at 6: 3.26094, expected 2.29034\n",
      "2024-06-01 10:29:27.075593: E external/local_xla/xla/service/gpu/buffer_comparator.cc:1137] Difference at 7: 2.93969, expected 1.96909\n",
      "2024-06-01 10:29:27.075603: E external/local_xla/xla/service/gpu/buffer_comparator.cc:1137] Difference at 8: 3.45735, expected 2.48675\n",
      "2024-06-01 10:29:27.075613: E external/local_xla/xla/service/gpu/buffer_comparator.cc:1137] Difference at 9: 3.98236, expected 3.01176\n",
      "2024-06-01 10:29:27.097707: E external/local_xla/xla/service/gpu/conv_algorithm_picker.cc:705] Results mismatch between different convolution algorithms. This is likely a bug/unexpected loss of precision in cudnn.\n",
      "(f32[32,64,126,190]{3,2,1,0}, u8[0]{0}) custom-call(f32[32,1,128,192]{3,2,1,0}, f32[64,1,3,3]{3,2,1,0}, f32[64]{0}), window={size=3x3}, dim_labels=bf01_oi01->bf01, custom_call_target=\"__cudnn$convBiasActivationForward\", backend_config={\"conv_result_scale\":1,\"activation_mode\":\"kRelu\",\"side_input_scale\":0,\"leakyrelu_alpha\":0} for eng20{k2=1,k4=0,k5=1,k6=0,k7=0} vs eng15{k5=1,k6=0,k7=1,k10=1}\n",
      "2024-06-01 10:29:27.097754: E external/local_xla/xla/service/gpu/conv_algorithm_picker.cc:270] Device: Tesla P100-PCIE-16GB\n",
      "2024-06-01 10:29:27.097769: E external/local_xla/xla/service/gpu/conv_algorithm_picker.cc:271] Platform: Compute Capability 6.0\n",
      "2024-06-01 10:29:27.097784: E external/local_xla/xla/service/gpu/conv_algorithm_picker.cc:272] Driver: 12020 (535.129.3)\n",
      "2024-06-01 10:29:27.097796: E external/local_xla/xla/service/gpu/conv_algorithm_picker.cc:273] Runtime: <undefined>\n",
      "2024-06-01 10:29:27.097815: E external/local_xla/xla/service/gpu/conv_algorithm_picker.cc:280] cudnn version: 8.9.0\n"
     ]
    },
    {
     "name": "stdout",
     "output_type": "stream",
     "text": [
      "\u001b[1m   2/1056\u001b[0m \u001b[37m━━━━━━━━━━━━━━━━━━━━\u001b[0m \u001b[1m1:25\u001b[0m 81ms/step - accuracy: 0.0312 - loss: 11.3781  "
     ]
    },
    {
     "name": "stderr",
     "output_type": "stream",
     "text": [
      "WARNING: All log messages before absl::InitializeLog() is called are written to STDERR\n",
      "I0000 00:00:1717237786.440251      84 device_compiler.h:186] Compiled cluster using XLA!  This line is logged at most once for the lifetime of the process.\n"
     ]
    },
    {
     "name": "stdout",
     "output_type": "stream",
     "text": [
      "\u001b[1m 990/1056\u001b[0m \u001b[32m━━━━━━━━━━━━━━━━━━\u001b[0m\u001b[37m━━\u001b[0m \u001b[1m4s\u001b[0m 74ms/step - accuracy: 0.4002 - loss: 4.6968"
     ]
    },
    {
     "name": "stderr",
     "output_type": "stream",
     "text": [
      "2024-06-01 10:31:04.644449: E external/local_xla/xla/service/gpu/buffer_comparator.cc:1137] Difference at 0: 3.73495, expected 3.24058\n",
      "2024-06-01 10:31:04.644517: E external/local_xla/xla/service/gpu/buffer_comparator.cc:1137] Difference at 1: 3.17536, expected 2.68099\n",
      "2024-06-01 10:31:04.644532: E external/local_xla/xla/service/gpu/buffer_comparator.cc:1137] Difference at 2: 2.91418, expected 2.41981\n",
      "2024-06-01 10:31:04.644551: E external/local_xla/xla/service/gpu/buffer_comparator.cc:1137] Difference at 3: 3.54452, expected 3.05015\n",
      "2024-06-01 10:31:04.644563: E external/local_xla/xla/service/gpu/buffer_comparator.cc:1137] Difference at 4: 2.83743, expected 2.34306\n",
      "2024-06-01 10:31:04.644573: E external/local_xla/xla/service/gpu/buffer_comparator.cc:1137] Difference at 5: 3.29695, expected 2.80258\n",
      "2024-06-01 10:31:04.644585: E external/local_xla/xla/service/gpu/buffer_comparator.cc:1137] Difference at 6: 2.76565, expected 2.27128\n",
      "2024-06-01 10:31:04.644594: E external/local_xla/xla/service/gpu/buffer_comparator.cc:1137] Difference at 7: 2.26261, expected 1.76824\n",
      "2024-06-01 10:31:04.644605: E external/local_xla/xla/service/gpu/buffer_comparator.cc:1137] Difference at 8: 2.38217, expected 1.8878\n",
      "2024-06-01 10:31:04.644616: E external/local_xla/xla/service/gpu/buffer_comparator.cc:1137] Difference at 9: 3.00835, expected 2.51398\n",
      "2024-06-01 10:31:04.650054: E external/local_xla/xla/service/gpu/conv_algorithm_picker.cc:705] Results mismatch between different convolution algorithms. This is likely a bug/unexpected loss of precision in cudnn.\n",
      "(f32[8,64,126,190]{3,2,1,0}, u8[0]{0}) custom-call(f32[8,1,128,192]{3,2,1,0}, f32[64,1,3,3]{3,2,1,0}, f32[64]{0}), window={size=3x3}, dim_labels=bf01_oi01->bf01, custom_call_target=\"__cudnn$convBiasActivationForward\", backend_config={\"conv_result_scale\":1,\"activation_mode\":\"kRelu\",\"side_input_scale\":0,\"leakyrelu_alpha\":0} for eng20{k2=1,k4=0,k5=1,k6=0,k7=0} vs eng15{k5=1,k6=0,k7=1,k10=1}\n",
      "2024-06-01 10:31:04.650085: E external/local_xla/xla/service/gpu/conv_algorithm_picker.cc:270] Device: Tesla P100-PCIE-16GB\n",
      "2024-06-01 10:31:04.650097: E external/local_xla/xla/service/gpu/conv_algorithm_picker.cc:271] Platform: Compute Capability 6.0\n",
      "2024-06-01 10:31:04.650111: E external/local_xla/xla/service/gpu/conv_algorithm_picker.cc:272] Driver: 12020 (535.129.3)\n",
      "2024-06-01 10:31:04.650125: E external/local_xla/xla/service/gpu/conv_algorithm_picker.cc:273] Runtime: <undefined>\n",
      "2024-06-01 10:31:04.650146: E external/local_xla/xla/service/gpu/conv_algorithm_picker.cc:280] cudnn version: 8.9.0\n",
      "2024-06-01 10:31:04.797521: E external/local_xla/xla/service/gpu/buffer_comparator.cc:1137] Difference at 0: 3.73495, expected 3.24058\n",
      "2024-06-01 10:31:04.797581: E external/local_xla/xla/service/gpu/buffer_comparator.cc:1137] Difference at 1: 3.17536, expected 2.68099\n",
      "2024-06-01 10:31:04.797594: E external/local_xla/xla/service/gpu/buffer_comparator.cc:1137] Difference at 2: 2.91418, expected 2.41981\n",
      "2024-06-01 10:31:04.797608: E external/local_xla/xla/service/gpu/buffer_comparator.cc:1137] Difference at 3: 3.54452, expected 3.05015\n",
      "2024-06-01 10:31:04.797625: E external/local_xla/xla/service/gpu/buffer_comparator.cc:1137] Difference at 4: 2.83743, expected 2.34306\n",
      "2024-06-01 10:31:04.797637: E external/local_xla/xla/service/gpu/buffer_comparator.cc:1137] Difference at 5: 3.29695, expected 2.80258\n",
      "2024-06-01 10:31:04.797647: E external/local_xla/xla/service/gpu/buffer_comparator.cc:1137] Difference at 6: 2.76565, expected 2.27128\n",
      "2024-06-01 10:31:04.797658: E external/local_xla/xla/service/gpu/buffer_comparator.cc:1137] Difference at 7: 2.26261, expected 1.76824\n",
      "2024-06-01 10:31:04.797668: E external/local_xla/xla/service/gpu/buffer_comparator.cc:1137] Difference at 8: 2.38217, expected 1.8878\n",
      "2024-06-01 10:31:04.797681: E external/local_xla/xla/service/gpu/buffer_comparator.cc:1137] Difference at 9: 3.00835, expected 2.51398\n",
      "2024-06-01 10:31:04.803099: E external/local_xla/xla/service/gpu/conv_algorithm_picker.cc:705] Results mismatch between different convolution algorithms. This is likely a bug/unexpected loss of precision in cudnn.\n",
      "(f32[8,64,126,190]{3,2,1,0}, u8[0]{0}) custom-call(f32[8,1,128,192]{3,2,1,0}, f32[64,1,3,3]{3,2,1,0}, f32[64]{0}), window={size=3x3}, dim_labels=bf01_oi01->bf01, custom_call_target=\"__cudnn$convBiasActivationForward\", backend_config={\"conv_result_scale\":1,\"activation_mode\":\"kRelu\",\"side_input_scale\":0,\"leakyrelu_alpha\":0} for eng20{k2=1,k4=0,k5=1,k6=0,k7=0} vs eng15{k5=1,k6=0,k7=1,k10=1}\n",
      "2024-06-01 10:31:04.803134: E external/local_xla/xla/service/gpu/conv_algorithm_picker.cc:270] Device: Tesla P100-PCIE-16GB\n",
      "2024-06-01 10:31:04.803149: E external/local_xla/xla/service/gpu/conv_algorithm_picker.cc:271] Platform: Compute Capability 6.0\n",
      "2024-06-01 10:31:04.803163: E external/local_xla/xla/service/gpu/conv_algorithm_picker.cc:272] Driver: 12020 (535.129.3)\n",
      "2024-06-01 10:31:04.803173: E external/local_xla/xla/service/gpu/conv_algorithm_picker.cc:273] Runtime: <undefined>\n",
      "2024-06-01 10:31:04.803193: E external/local_xla/xla/service/gpu/conv_algorithm_picker.cc:280] cudnn version: 8.9.0\n"
     ]
    },
    {
     "name": "stdout",
     "output_type": "stream",
     "text": [
      "\u001b[1m1056/1056\u001b[0m \u001b[32m━━━━━━━━━━━━━━━━━━━━\u001b[0m\u001b[37m\u001b[0m \u001b[1m0s\u001b[0m 89ms/step - accuracy: 0.4061 - loss: 4.5711"
     ]
    },
    {
     "name": "stderr",
     "output_type": "stream",
     "text": [
      "2024-06-01 10:31:27.216840: E external/local_xla/xla/service/gpu/buffer_comparator.cc:1137] Difference at 101: 1.29365, expected 1.04811\n",
      "2024-06-01 10:31:27.216933: E external/local_xla/xla/service/gpu/buffer_comparator.cc:1137] Difference at 646: 1.44418, expected 1.19864\n",
      "2024-06-01 10:31:27.216951: E external/local_xla/xla/service/gpu/buffer_comparator.cc:1137] Difference at 1013: 1.25238, expected 1.00684\n",
      "2024-06-01 10:31:27.216970: E external/local_xla/xla/service/gpu/buffer_comparator.cc:1137] Difference at 1087: 1.15504, expected 0.909496\n",
      "2024-06-01 10:31:27.216984: E external/local_xla/xla/service/gpu/buffer_comparator.cc:1137] Difference at 1270: 1.43624, expected 1.1907\n",
      "2024-06-01 10:31:27.216995: E external/local_xla/xla/service/gpu/buffer_comparator.cc:1137] Difference at 1280: 1.43212, expected 1.18658\n",
      "2024-06-01 10:31:27.217007: E external/local_xla/xla/service/gpu/buffer_comparator.cc:1137] Difference at 1369: 1.37886, expected 1.13331\n",
      "2024-06-01 10:31:27.217018: E external/local_xla/xla/service/gpu/buffer_comparator.cc:1137] Difference at 1370: 1.36298, expected 1.11743\n",
      "2024-06-01 10:31:27.217029: E external/local_xla/xla/service/gpu/buffer_comparator.cc:1137] Difference at 1460: 1.26055, expected 1.015\n",
      "2024-06-01 10:31:27.217041: E external/local_xla/xla/service/gpu/buffer_comparator.cc:1137] Difference at 1563: 1.42293, expected 1.17739\n",
      "2024-06-01 10:31:27.230222: E external/local_xla/xla/service/gpu/conv_algorithm_picker.cc:705] Results mismatch between different convolution algorithms. This is likely a bug/unexpected loss of precision in cudnn.\n",
      "(f32[20,64,126,190]{3,2,1,0}, u8[0]{0}) custom-call(f32[20,1,128,192]{3,2,1,0}, f32[64,1,3,3]{3,2,1,0}, f32[64]{0}), window={size=3x3}, dim_labels=bf01_oi01->bf01, custom_call_target=\"__cudnn$convBiasActivationForward\", backend_config={\"conv_result_scale\":1,\"activation_mode\":\"kRelu\",\"side_input_scale\":0,\"leakyrelu_alpha\":0} for eng20{k2=1,k4=0,k5=1,k6=0,k7=0} vs eng15{k5=1,k6=0,k7=1,k10=1}\n",
      "2024-06-01 10:31:27.230254: E external/local_xla/xla/service/gpu/conv_algorithm_picker.cc:270] Device: Tesla P100-PCIE-16GB\n",
      "2024-06-01 10:31:27.230268: E external/local_xla/xla/service/gpu/conv_algorithm_picker.cc:271] Platform: Compute Capability 6.0\n",
      "2024-06-01 10:31:27.230283: E external/local_xla/xla/service/gpu/conv_algorithm_picker.cc:272] Driver: 12020 (535.129.3)\n",
      "2024-06-01 10:31:27.230295: E external/local_xla/xla/service/gpu/conv_algorithm_picker.cc:273] Runtime: <undefined>\n",
      "2024-06-01 10:31:27.230316: E external/local_xla/xla/service/gpu/conv_algorithm_picker.cc:280] cudnn version: 8.9.0\n",
      "2024-06-01 10:31:27.554481: E external/local_xla/xla/service/gpu/buffer_comparator.cc:1137] Difference at 101: 1.29365, expected 1.04811\n",
      "2024-06-01 10:31:27.554559: E external/local_xla/xla/service/gpu/buffer_comparator.cc:1137] Difference at 646: 1.44418, expected 1.19864\n",
      "2024-06-01 10:31:27.554576: E external/local_xla/xla/service/gpu/buffer_comparator.cc:1137] Difference at 1013: 1.25238, expected 1.00684\n",
      "2024-06-01 10:31:27.554595: E external/local_xla/xla/service/gpu/buffer_comparator.cc:1137] Difference at 1087: 1.15504, expected 0.909496\n",
      "2024-06-01 10:31:27.554609: E external/local_xla/xla/service/gpu/buffer_comparator.cc:1137] Difference at 1270: 1.43624, expected 1.1907\n",
      "2024-06-01 10:31:27.554620: E external/local_xla/xla/service/gpu/buffer_comparator.cc:1137] Difference at 1280: 1.43212, expected 1.18658\n",
      "2024-06-01 10:31:27.554633: E external/local_xla/xla/service/gpu/buffer_comparator.cc:1137] Difference at 1369: 1.37886, expected 1.13331\n",
      "2024-06-01 10:31:27.554643: E external/local_xla/xla/service/gpu/buffer_comparator.cc:1137] Difference at 1370: 1.36298, expected 1.11743\n",
      "2024-06-01 10:31:27.554654: E external/local_xla/xla/service/gpu/buffer_comparator.cc:1137] Difference at 1460: 1.26055, expected 1.015\n",
      "2024-06-01 10:31:27.554665: E external/local_xla/xla/service/gpu/buffer_comparator.cc:1137] Difference at 1563: 1.42293, expected 1.17739\n",
      "2024-06-01 10:31:27.567978: E external/local_xla/xla/service/gpu/conv_algorithm_picker.cc:705] Results mismatch between different convolution algorithms. This is likely a bug/unexpected loss of precision in cudnn.\n",
      "(f32[20,64,126,190]{3,2,1,0}, u8[0]{0}) custom-call(f32[20,1,128,192]{3,2,1,0}, f32[64,1,3,3]{3,2,1,0}, f32[64]{0}), window={size=3x3}, dim_labels=bf01_oi01->bf01, custom_call_target=\"__cudnn$convBiasActivationForward\", backend_config={\"conv_result_scale\":1,\"activation_mode\":\"kRelu\",\"side_input_scale\":0,\"leakyrelu_alpha\":0} for eng20{k2=1,k4=0,k5=1,k6=0,k7=0} vs eng15{k5=1,k6=0,k7=1,k10=1}\n",
      "2024-06-01 10:31:27.568013: E external/local_xla/xla/service/gpu/conv_algorithm_picker.cc:270] Device: Tesla P100-PCIE-16GB\n",
      "2024-06-01 10:31:27.568026: E external/local_xla/xla/service/gpu/conv_algorithm_picker.cc:271] Platform: Compute Capability 6.0\n",
      "2024-06-01 10:31:27.568036: E external/local_xla/xla/service/gpu/conv_algorithm_picker.cc:272] Driver: 12020 (535.129.3)\n",
      "2024-06-01 10:31:27.568052: E external/local_xla/xla/service/gpu/conv_algorithm_picker.cc:273] Runtime: <undefined>\n",
      "2024-06-01 10:31:27.568073: E external/local_xla/xla/service/gpu/conv_algorithm_picker.cc:280] cudnn version: 8.9.0\n"
     ]
    },
    {
     "name": "stdout",
     "output_type": "stream",
     "text": [
      "\u001b[1m1056/1056\u001b[0m \u001b[32m━━━━━━━━━━━━━━━━━━━━\u001b[0m\u001b[37m\u001b[0m \u001b[1m137s\u001b[0m 100ms/step - accuracy: 0.4062 - loss: 4.5692 - val_accuracy: 0.2278 - val_loss: 2.8383\n",
      "Epoch 2/30\n",
      "\u001b[1m1056/1056\u001b[0m \u001b[32m━━━━━━━━━━━━━━━━━━━━\u001b[0m\u001b[37m\u001b[0m \u001b[1m84s\u001b[0m 79ms/step - accuracy: 0.6573 - loss: 1.2205 - val_accuracy: 0.6766 - val_loss: 1.1970\n",
      "Epoch 3/30\n",
      "\u001b[1m1056/1056\u001b[0m \u001b[32m━━━━━━━━━━━━━━━━━━━━\u001b[0m\u001b[37m\u001b[0m \u001b[1m83s\u001b[0m 79ms/step - accuracy: 0.7356 - loss: 1.0144 - val_accuracy: 0.6824 - val_loss: 1.2168\n",
      "Epoch 4/30\n",
      "\u001b[1m1056/1056\u001b[0m \u001b[32m━━━━━━━━━━━━━━━━━━━━\u001b[0m\u001b[37m\u001b[0m \u001b[1m84s\u001b[0m 79ms/step - accuracy: 0.7956 - loss: 0.8424 - val_accuracy: 0.7467 - val_loss: 1.1016\n",
      "Epoch 5/30\n",
      "\u001b[1m1056/1056\u001b[0m \u001b[32m━━━━━━━━━━━━━━━━━━━━\u001b[0m\u001b[37m\u001b[0m \u001b[1m83s\u001b[0m 79ms/step - accuracy: 0.8225 - loss: 0.7889 - val_accuracy: 0.7057 - val_loss: 1.1571\n",
      "Epoch 6/30\n",
      "\u001b[1m1056/1056\u001b[0m \u001b[32m━━━━━━━━━━━━━━━━━━━━\u001b[0m\u001b[37m\u001b[0m \u001b[1m83s\u001b[0m 79ms/step - accuracy: 0.8478 - loss: 0.7072 - val_accuracy: 0.8281 - val_loss: 0.8589\n",
      "Epoch 7/30\n",
      "\u001b[1m1056/1056\u001b[0m \u001b[32m━━━━━━━━━━━━━━━━━━━━\u001b[0m\u001b[37m\u001b[0m \u001b[1m83s\u001b[0m 79ms/step - accuracy: 0.8703 - loss: 0.6416 - val_accuracy: 0.8125 - val_loss: 0.7956\n",
      "Epoch 8/30\n",
      "\u001b[1m1056/1056\u001b[0m \u001b[32m━━━━━━━━━━━━━━━━━━━━\u001b[0m\u001b[37m\u001b[0m \u001b[1m83s\u001b[0m 79ms/step - accuracy: 0.8807 - loss: 0.6025 - val_accuracy: 0.8221 - val_loss: 0.8858\n",
      "Epoch 9/30\n",
      "\u001b[1m1056/1056\u001b[0m \u001b[32m━━━━━━━━━━━━━━━━━━━━\u001b[0m\u001b[37m\u001b[0m \u001b[1m142s\u001b[0m 79ms/step - accuracy: 0.8943 - loss: 0.5757 - val_accuracy: 0.8541 - val_loss: 0.7376\n",
      "Epoch 10/30\n",
      "\u001b[1m1056/1056\u001b[0m \u001b[32m━━━━━━━━━━━━━━━━━━━━\u001b[0m\u001b[37m\u001b[0m \u001b[1m83s\u001b[0m 79ms/step - accuracy: 0.9014 - loss: 0.5367 - val_accuracy: 0.8346 - val_loss: 0.7602\n",
      "Epoch 11/30\n",
      "\u001b[1m1056/1056\u001b[0m \u001b[32m━━━━━━━━━━━━━━━━━━━━\u001b[0m\u001b[37m\u001b[0m \u001b[1m83s\u001b[0m 79ms/step - accuracy: 0.9102 - loss: 0.5150 - val_accuracy: 0.8537 - val_loss: 0.6930\n",
      "Epoch 12/30\n",
      "\u001b[1m1056/1056\u001b[0m \u001b[32m━━━━━━━━━━━━━━━━━━━━\u001b[0m\u001b[37m\u001b[0m \u001b[1m84s\u001b[0m 79ms/step - accuracy: 0.9182 - loss: 0.4888 - val_accuracy: 0.8504 - val_loss: 0.7323\n",
      "Epoch 13/30\n",
      "\u001b[1m1056/1056\u001b[0m \u001b[32m━━━━━━━━━━━━━━━━━━━━\u001b[0m\u001b[37m\u001b[0m \u001b[1m83s\u001b[0m 79ms/step - accuracy: 0.9173 - loss: 0.4937 - val_accuracy: 0.8474 - val_loss: 0.7804\n",
      "Epoch 14/30\n",
      "\u001b[1m1056/1056\u001b[0m \u001b[32m━━━━━━━━━━━━━━━━━━━━\u001b[0m\u001b[37m\u001b[0m \u001b[1m83s\u001b[0m 79ms/step - accuracy: 0.9239 - loss: 0.4714 - val_accuracy: 0.8591 - val_loss: 0.7247\n",
      "Epoch 15/30\n",
      "\u001b[1m1056/1056\u001b[0m \u001b[32m━━━━━━━━━━━━━━━━━━━━\u001b[0m\u001b[37m\u001b[0m \u001b[1m83s\u001b[0m 79ms/step - accuracy: 0.9298 - loss: 0.4526 - val_accuracy: 0.8735 - val_loss: 0.6542\n",
      "Epoch 16/30\n",
      "\u001b[1m1056/1056\u001b[0m \u001b[32m━━━━━━━━━━━━━━━━━━━━\u001b[0m\u001b[37m\u001b[0m \u001b[1m83s\u001b[0m 79ms/step - accuracy: 0.9336 - loss: 0.4328 - val_accuracy: 0.8868 - val_loss: 0.6183\n",
      "Epoch 17/30\n",
      "\u001b[1m1056/1056\u001b[0m \u001b[32m━━━━━━━━━━━━━━━━━━━━\u001b[0m\u001b[37m\u001b[0m \u001b[1m83s\u001b[0m 79ms/step - accuracy: 0.9329 - loss: 0.4323 - val_accuracy: 0.8608 - val_loss: 0.7232\n",
      "Epoch 18/30\n",
      "\u001b[1m1056/1056\u001b[0m \u001b[32m━━━━━━━━━━━━━━━━━━━━\u001b[0m\u001b[37m\u001b[0m \u001b[1m83s\u001b[0m 79ms/step - accuracy: 0.9392 - loss: 0.4103 - val_accuracy: 0.8670 - val_loss: 0.7159\n",
      "Epoch 19/30\n",
      "\u001b[1m1056/1056\u001b[0m \u001b[32m━━━━━━━━━━━━━━━━━━━━\u001b[0m\u001b[37m\u001b[0m \u001b[1m83s\u001b[0m 79ms/step - accuracy: 0.9415 - loss: 0.4218 - val_accuracy: 0.8901 - val_loss: 0.6176\n",
      "Epoch 20/30\n",
      "\u001b[1m1056/1056\u001b[0m \u001b[32m━━━━━━━━━━━━━━━━━━━━\u001b[0m\u001b[37m\u001b[0m \u001b[1m142s\u001b[0m 79ms/step - accuracy: 0.9465 - loss: 0.3983 - val_accuracy: 0.8602 - val_loss: 0.7265\n",
      "Epoch 21/30\n",
      "\u001b[1m1056/1056\u001b[0m \u001b[32m━━━━━━━━━━━━━━━━━━━━\u001b[0m\u001b[37m\u001b[0m \u001b[1m142s\u001b[0m 79ms/step - accuracy: 0.9512 - loss: 0.3753 - val_accuracy: 0.8931 - val_loss: 0.6377\n",
      "Epoch 22/30\n",
      "\u001b[1m1056/1056\u001b[0m \u001b[32m━━━━━━━━━━━━━━━━━━━━\u001b[0m\u001b[37m\u001b[0m \u001b[1m83s\u001b[0m 79ms/step - accuracy: 0.9492 - loss: 0.4022 - val_accuracy: 0.8856 - val_loss: 0.6381\n",
      "Epoch 23/30\n",
      "\u001b[1m1056/1056\u001b[0m \u001b[32m━━━━━━━━━━━━━━━━━━━━\u001b[0m\u001b[37m\u001b[0m \u001b[1m142s\u001b[0m 79ms/step - accuracy: 0.9550 - loss: 0.3660 - val_accuracy: 0.8759 - val_loss: 0.6564\n",
      "Epoch 24/30\n",
      "\u001b[1m1056/1056\u001b[0m \u001b[32m━━━━━━━━━━━━━━━━━━━━\u001b[0m\u001b[37m\u001b[0m \u001b[1m83s\u001b[0m 79ms/step - accuracy: 0.9506 - loss: 0.3686 - val_accuracy: 0.8521 - val_loss: 0.8429\n"
     ]
    },
    {
     "data": {
      "text/plain": [
       "<keras.src.callbacks.history.History at 0x7a8e6dd85000>"
      ]
     },
     "execution_count": 7,
     "metadata": {},
     "output_type": "execute_result"
    }
   ],
   "source": [
    "from tensorflow.keras.callbacks import EarlyStopping\n",
    "\n",
    "early_stopping = EarlyStopping(\n",
    "    monitor='val_loss',\n",
    "    patience=5,\n",
    "    restore_best_weights=True\n",
    ")\n",
    "\n",
    "model.fit(x=training_dataset, epochs=30, validation_data=validation_dataset, callbacks=[early_stopping])"
   ]
  },
  {
   "cell_type": "code",
   "execution_count": 8,
   "id": "d6b00fd2",
   "metadata": {
    "execution": {
     "iopub.execute_input": "2024-06-01T11:07:28.877447Z",
     "iopub.status.busy": "2024-06-01T11:07:28.877077Z",
     "iopub.status.idle": "2024-06-01T11:07:28.925281Z",
     "shell.execute_reply": "2024-06-01T11:07:28.924477Z"
    },
    "papermill": {
     "duration": 2.240186,
     "end_time": "2024-06-01T11:07:28.927494",
     "exception": false,
     "start_time": "2024-06-01T11:07:26.687308",
     "status": "completed"
    },
    "tags": []
   },
   "outputs": [],
   "source": [
    "X_test = np.load('/kaggle/working/test.npy', allow_pickle=True)\n",
    "X_test = X_test.astype('float32') / 255"
   ]
  },
  {
   "cell_type": "code",
   "execution_count": 9,
   "id": "87d1a7a7",
   "metadata": {
    "execution": {
     "iopub.execute_input": "2024-06-01T11:07:33.155656Z",
     "iopub.status.busy": "2024-06-01T11:07:33.154718Z",
     "iopub.status.idle": "2024-06-01T11:07:39.952113Z",
     "shell.execute_reply": "2024-06-01T11:07:39.951307Z"
    },
    "papermill": {
     "duration": 8.978212,
     "end_time": "2024-06-01T11:07:39.954346",
     "exception": false,
     "start_time": "2024-06-01T11:07:30.976134",
     "status": "completed"
    },
    "tags": []
   },
   "outputs": [
    {
     "name": "stdout",
     "output_type": "stream",
     "text": [
      "\u001b[1m31/32\u001b[0m \u001b[32m━━━━━━━━━━━━━━━━━━━\u001b[0m\u001b[37m━\u001b[0m \u001b[1m0s\u001b[0m 17ms/step"
     ]
    },
    {
     "name": "stderr",
     "output_type": "stream",
     "text": [
      "2024-06-01 11:07:35.342266: E external/local_xla/xla/service/gpu/buffer_comparator.cc:1137] Difference at 0: 2.81281, expected 1.81633\n",
      "2024-06-01 11:07:35.342331: E external/local_xla/xla/service/gpu/buffer_comparator.cc:1137] Difference at 1: 3.23289, expected 2.23642\n",
      "2024-06-01 11:07:35.342348: E external/local_xla/xla/service/gpu/buffer_comparator.cc:1137] Difference at 2: 2.68713, expected 1.69066\n",
      "2024-06-01 11:07:35.342366: E external/local_xla/xla/service/gpu/buffer_comparator.cc:1137] Difference at 3: 2.57484, expected 1.57836\n",
      "2024-06-01 11:07:35.342379: E external/local_xla/xla/service/gpu/buffer_comparator.cc:1137] Difference at 4: 2.91767, expected 1.9212\n",
      "2024-06-01 11:07:35.342389: E external/local_xla/xla/service/gpu/buffer_comparator.cc:1137] Difference at 5: 2.92405, expected 1.92758\n",
      "2024-06-01 11:07:35.342400: E external/local_xla/xla/service/gpu/buffer_comparator.cc:1137] Difference at 6: 2.28038, expected 1.2839\n",
      "2024-06-01 11:07:35.342411: E external/local_xla/xla/service/gpu/buffer_comparator.cc:1137] Difference at 7: 2.17118, expected 1.1747\n",
      "2024-06-01 11:07:35.342421: E external/local_xla/xla/service/gpu/buffer_comparator.cc:1137] Difference at 8: 2.45356, expected 1.45709\n",
      "2024-06-01 11:07:35.342431: E external/local_xla/xla/service/gpu/buffer_comparator.cc:1137] Difference at 9: 2.86027, expected 1.86379\n",
      "2024-06-01 11:07:35.359446: E external/local_xla/xla/service/gpu/conv_algorithm_picker.cc:705] Results mismatch between different convolution algorithms. This is likely a bug/unexpected loss of precision in cudnn.\n",
      "(f32[25,64,126,190]{3,2,1,0}, u8[0]{0}) custom-call(f32[25,1,128,192]{3,2,1,0}, f32[64,1,3,3]{3,2,1,0}, f32[64]{0}), window={size=3x3}, dim_labels=bf01_oi01->bf01, custom_call_target=\"__cudnn$convBiasActivationForward\", backend_config={\"conv_result_scale\":1,\"activation_mode\":\"kRelu\",\"side_input_scale\":0,\"leakyrelu_alpha\":0} for eng20{k2=1,k4=0,k5=1,k6=0,k7=0} vs eng15{k5=1,k6=0,k7=1,k10=1}\n",
      "2024-06-01 11:07:35.359486: E external/local_xla/xla/service/gpu/conv_algorithm_picker.cc:270] Device: Tesla P100-PCIE-16GB\n",
      "2024-06-01 11:07:35.359502: E external/local_xla/xla/service/gpu/conv_algorithm_picker.cc:271] Platform: Compute Capability 6.0\n",
      "2024-06-01 11:07:35.359516: E external/local_xla/xla/service/gpu/conv_algorithm_picker.cc:272] Driver: 12020 (535.129.3)\n",
      "2024-06-01 11:07:35.359529: E external/local_xla/xla/service/gpu/conv_algorithm_picker.cc:273] Runtime: <undefined>\n",
      "2024-06-01 11:07:35.359551: E external/local_xla/xla/service/gpu/conv_algorithm_picker.cc:280] cudnn version: 8.9.0\n",
      "2024-06-01 11:07:35.706213: E external/local_xla/xla/service/gpu/buffer_comparator.cc:1137] Difference at 0: 2.81281, expected 1.81633\n",
      "2024-06-01 11:07:35.706268: E external/local_xla/xla/service/gpu/buffer_comparator.cc:1137] Difference at 1: 3.23289, expected 2.23642\n",
      "2024-06-01 11:07:35.706283: E external/local_xla/xla/service/gpu/buffer_comparator.cc:1137] Difference at 2: 2.68713, expected 1.69066\n",
      "2024-06-01 11:07:35.706302: E external/local_xla/xla/service/gpu/buffer_comparator.cc:1137] Difference at 3: 2.57484, expected 1.57836\n",
      "2024-06-01 11:07:35.706322: E external/local_xla/xla/service/gpu/buffer_comparator.cc:1137] Difference at 4: 2.91767, expected 1.9212\n",
      "2024-06-01 11:07:35.706333: E external/local_xla/xla/service/gpu/buffer_comparator.cc:1137] Difference at 5: 2.92405, expected 1.92758\n",
      "2024-06-01 11:07:35.706344: E external/local_xla/xla/service/gpu/buffer_comparator.cc:1137] Difference at 6: 2.28038, expected 1.2839\n",
      "2024-06-01 11:07:35.706354: E external/local_xla/xla/service/gpu/buffer_comparator.cc:1137] Difference at 7: 2.17118, expected 1.1747\n",
      "2024-06-01 11:07:35.706365: E external/local_xla/xla/service/gpu/buffer_comparator.cc:1137] Difference at 8: 2.45356, expected 1.45709\n",
      "2024-06-01 11:07:35.706375: E external/local_xla/xla/service/gpu/buffer_comparator.cc:1137] Difference at 9: 2.86027, expected 1.86379\n",
      "2024-06-01 11:07:35.723261: E external/local_xla/xla/service/gpu/conv_algorithm_picker.cc:705] Results mismatch between different convolution algorithms. This is likely a bug/unexpected loss of precision in cudnn.\n",
      "(f32[25,64,126,190]{3,2,1,0}, u8[0]{0}) custom-call(f32[25,1,128,192]{3,2,1,0}, f32[64,1,3,3]{3,2,1,0}, f32[64]{0}), window={size=3x3}, dim_labels=bf01_oi01->bf01, custom_call_target=\"__cudnn$convBiasActivationForward\", backend_config={\"conv_result_scale\":1,\"activation_mode\":\"kRelu\",\"side_input_scale\":0,\"leakyrelu_alpha\":0} for eng20{k2=1,k4=0,k5=1,k6=0,k7=0} vs eng15{k5=1,k6=0,k7=1,k10=1}\n",
      "2024-06-01 11:07:35.723294: E external/local_xla/xla/service/gpu/conv_algorithm_picker.cc:270] Device: Tesla P100-PCIE-16GB\n",
      "2024-06-01 11:07:35.723309: E external/local_xla/xla/service/gpu/conv_algorithm_picker.cc:271] Platform: Compute Capability 6.0\n",
      "2024-06-01 11:07:35.723324: E external/local_xla/xla/service/gpu/conv_algorithm_picker.cc:272] Driver: 12020 (535.129.3)\n",
      "2024-06-01 11:07:35.723336: E external/local_xla/xla/service/gpu/conv_algorithm_picker.cc:273] Runtime: <undefined>\n",
      "2024-06-01 11:07:35.723355: E external/local_xla/xla/service/gpu/conv_algorithm_picker.cc:280] cudnn version: 8.9.0\n"
     ]
    },
    {
     "name": "stdout",
     "output_type": "stream",
     "text": [
      "\u001b[1m32/32\u001b[0m \u001b[32m━━━━━━━━━━━━━━━━━━━━\u001b[0m\u001b[37m\u001b[0m \u001b[1m6s\u001b[0m 185ms/step\n"
     ]
    }
   ],
   "source": [
    "res = model.predict(X_test).argmax(axis=1)\n",
    "df = pd.DataFrame({\"Category\":res})\n",
    "df.to_csv(\"reco_nav.csv\", index_label=\"ID\")"
   ]
  },
  {
   "cell_type": "code",
   "execution_count": 10,
   "id": "5ae0a0df",
   "metadata": {
    "execution": {
     "iopub.execute_input": "2024-06-01T11:07:44.176186Z",
     "iopub.status.busy": "2024-06-01T11:07:44.175803Z",
     "iopub.status.idle": "2024-06-01T11:07:45.212115Z",
     "shell.execute_reply": "2024-06-01T11:07:45.211109Z"
    },
    "papermill": {
     "duration": 3.146157,
     "end_time": "2024-06-01T11:07:45.214424",
     "exception": false,
     "start_time": "2024-06-01T11:07:42.068267",
     "status": "completed"
    },
    "tags": []
   },
   "outputs": [
    {
     "name": "stdout",
     "output_type": "stream",
     "text": [
      "ID,Category\r\n",
      "0,5\r\n",
      "1,2\r\n",
      "2,2\r\n",
      "3,3\r\n",
      "4,8\r\n",
      "5,8\r\n",
      "6,4\r\n",
      "7,2\r\n",
      "8,3\r\n"
     ]
    }
   ],
   "source": [
    "!head reco_nav.csv"
   ]
  },
  {
   "cell_type": "code",
   "execution_count": 11,
   "id": "73201b6d",
   "metadata": {
    "execution": {
     "iopub.execute_input": "2024-06-01T11:07:49.560734Z",
     "iopub.status.busy": "2024-06-01T11:07:49.560050Z",
     "iopub.status.idle": "2024-06-01T11:07:49.567796Z",
     "shell.execute_reply": "2024-06-01T11:07:49.566878Z"
    },
    "papermill": {
     "duration": 2.209234,
     "end_time": "2024-06-01T11:07:49.569772",
     "exception": false,
     "start_time": "2024-06-01T11:07:47.360538",
     "status": "completed"
    },
    "tags": []
   },
   "outputs": [
    {
     "data": {
      "text/html": [
       "<a href='reco_nav.csv' target='_blank'>reco_nav.csv</a><br>"
      ],
      "text/plain": [
       "/kaggle/working/reco_nav.csv"
      ]
     },
     "execution_count": 11,
     "metadata": {},
     "output_type": "execute_result"
    }
   ],
   "source": [
    "import os\n",
    "os.chdir(r'/kaggle/working')\n",
    "from IPython.display import FileLink\n",
    "FileLink(r'reco_nav.csv')"
   ]
  },
  {
   "cell_type": "code",
   "execution_count": null,
   "id": "227beacd",
   "metadata": {
    "papermill": {
     "duration": 2.16701,
     "end_time": "2024-06-01T11:07:53.778055",
     "exception": false,
     "start_time": "2024-06-01T11:07:51.611045",
     "status": "completed"
    },
    "tags": []
   },
   "outputs": [],
   "source": []
  }
 ],
 "metadata": {
  "kaggle": {
   "accelerator": "gpu",
   "dataSources": [
    {
     "databundleVersionId": 8179471,
     "sourceId": 74796,
     "sourceType": "competition"
    }
   ],
   "dockerImageVersionId": 30698,
   "isGpuEnabled": true,
   "isInternetEnabled": true,
   "language": "python",
   "sourceType": "notebook"
  },
  "kernelspec": {
   "display_name": "Python 3",
   "language": "python",
   "name": "python3"
  },
  "language_info": {
   "codemirror_mode": {
    "name": "ipython",
    "version": 3
   },
   "file_extension": ".py",
   "mimetype": "text/x-python",
   "name": "python",
   "nbconvert_exporter": "python",
   "pygments_lexer": "ipython3",
   "version": "3.10.13"
  },
  "papermill": {
   "default_parameters": {},
   "duration": 2349.637248,
   "end_time": "2024-06-01T11:07:58.832026",
   "environment_variables": {},
   "exception": null,
   "input_path": "__notebook__.ipynb",
   "output_path": "__notebook__.ipynb",
   "parameters": {},
   "start_time": "2024-06-01T10:28:49.194778",
   "version": "2.5.0"
  }
 },
 "nbformat": 4,
 "nbformat_minor": 5
}
